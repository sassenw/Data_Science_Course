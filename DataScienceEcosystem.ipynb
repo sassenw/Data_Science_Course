{
 "cells": [
  {
   "cell_type": "markdown",
   "id": "82db8da9",
   "metadata": {},
   "source": [
    "# Data Science Tools and Ecosystem"
   ]
  },
  {
   "cell_type": "markdown",
   "id": "2a8c47c6",
   "metadata": {},
   "source": [
    "In this notebook, Data Science Tools and Ecosystem are summarized."
   ]
  },
  {
   "cell_type": "markdown",
   "id": "e45ae364",
   "metadata": {},
   "source": [
    "Some of the popular languages that Data Scientists use are:\n",
    "1. Python\n",
    "2. R\n",
    "3. SQL\n",
    "4. Scala\n",
    "5. Java\n",
    "6. C++ \n",
    "7. ..."
   ]
  },
  {
   "cell_type": "markdown",
   "id": "6905a3ff",
   "metadata": {},
   "source": [
    "Some of the commonly used libraries used by Data Scientists include:\n",
    "* Pandas\n",
    "* Numpy\n",
    "* Matplotlib\n",
    "* Seaborn\n",
    "* Scikit-learn\n",
    "* Keras"
   ]
  },
  {
   "cell_type": "markdown",
   "id": "d7df8a03",
   "metadata": {},
   "source": [
    "|Data Science Tools        | \n",
    "|:-----------------:|\n",
    "|On Damand          |\n",
    "|Network Access     |\n",
    "|Resource Pooling   |"
   ]
  }
 ],
 "metadata": {
  "language_info": {
   "name": "python"
  }
 },
 "nbformat": 4,
 "nbformat_minor": 5
}
